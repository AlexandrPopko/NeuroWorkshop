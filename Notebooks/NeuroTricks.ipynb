{
  "cells": [
    {
      "metadata": {
        "collapsed": true,
        "slideshow": {
          "slide_type": "slide"
        }
      },
      "cell_type": "markdown",
      "source": "# Хитрости обучения\n\n## NeuroWorkshop\n\nДмитрий Сошников | dmitri@soshnikov.com"
    },
    {
      "metadata": {
        "slideshow": {
          "slide_type": "slide"
        }
      },
      "cell_type": "markdown",
      "source": "## Хитрости обучения\n\n 1. Удержание сигналов внутри сети близко к разумному диапазону ($[-1..1]$ или $[0..1]$)"
    },
    {
      "metadata": {
        "slideshow": {
          "slide_type": "slide"
        }
      },
      "cell_type": "markdown",
      "source": "## Масштабирование\n\nПоскольку все активационные функции имеют \"интересный\" вид в диапазоне $[-1..1]$, то необходимо следить, чтобы сигналы в сети были примерно в этих диапазонах\n\n * Масштабируем входные/выходные значения в диапазоне $[-1..1]$ или $[0..1]$\n"
    },
    {
      "metadata": {
        "slideshow": {
          "slide_type": "slide"
        }
      },
      "cell_type": "markdown",
      "source": "## Начальная инициализация весов\n\n * Нормальное распределение $N(0,1)$ - не хорошо, поскольку если $n$ входов, то на выходе стандартное отклонение $n$\n * Равномерное (`uniform`)\n * $N(0,{1\\over n})$ (`gaussian`)\n * $N(0,{1\\over \\sqrt n_{in}})$ - гарантирует, что для входов с нулевым средним и дисперсией=1, на выходе это свойство сохранится\n * $N(0,{\\sqrt{2\\over n_{in}+n_{out}}})$ - Xavier initialization (`glorot`), даёт сохранение среднего и дисперсии при обратном распространении"
    },
    {
      "metadata": {
        "slideshow": {
          "slide_type": "slide"
        }
      },
      "cell_type": "markdown",
      "source": "## Batch Normalization\n\n * Добавление в сеть слоёв, которые осуществляют нормализацию промежуточных результатов в процессе вычисления сети\n * Нормализация осуществляется сразу для всех значений в minibatch (для эффективных вычислений)\n * Существуют другие варианты нормализации (Weight normalization, Layer Normalization)\n * Эффект - ускорение обучения и повышение точности\n\nИсточник: [оригинальная статья](https://arxiv.org/pdf/1502.03167.pdf) и [статья на хабре](https://habrahabr.ru/post/309302/)"
    },
    {
      "metadata": {
        "slideshow": {
          "slide_type": "slide"
        }
      },
      "cell_type": "markdown",
      "source": "## Хитрости обучения\n\n 1. Удержание сигналов внутри сети близко к разумному диапазону ($[-1..1]$ или $[0..1]$)\n 2. **Возмущения сети за счет выпадения нейронов (Dropout)**"
    },
    {
      "metadata": {
        "slideshow": {
          "slide_type": "slide"
        }
      },
      "cell_type": "markdown",
      "source": "## Dropout\n\n * При обучении убирать некоторое количество нейронов (10%-30%), чтобы обучение происходило по другим направлениям\n * Достигается внесением специальных слоёв `Dropout(...)`\n * Помогает ускорить обучение\n * Похоже на эффект обучения пьяного\n * Может рассматриваться как неявное усреднение нескольких моделей (implicit model averaging)"
    },
    {
      "metadata": {
        "slideshow": {
          "slide_type": "slide"
        }
      },
      "cell_type": "markdown",
      "source": "## Эффект от Dropout\n\nПосмотрим, как влияет Dropout на модели MNIST"
    },
    {
      "metadata": {
        "collapsed": true,
        "slideshow": {
          "slide_type": "skip"
        },
        "trusted": false
      },
      "cell_type": "code",
      "source": "%matplotlib inline\nimport numpy as np\nimport cntk\nfrom cntk import Trainer\nfrom cntk.learners import sgd\nfrom cntk.ops import *\nfrom cntk.io import *\nfrom cntk.layers import *\nimport pylab\nimport pickle\nimport os\nimport matplotlib.pyplot as plt\n\nif not os.path.exists('mnist.pkl'):\n    !rm *.pkl\n    !wget https://raw.githubusercontent.com/shwars/NeuroWorkshop/master/Data/MNIST/mnist.pkl.gz\n    !gzip -d mnist.pkl.gz\n        \nwith open('mnist.pkl', 'rb') as mnist_pickle:\n    MNIST = pickle.load(mnist_pickle)\n    ",
      "execution_count": 31,
      "outputs": []
    },
    {
      "metadata": {
        "collapsed": true,
        "slideshow": {
          "slide_type": "skip"
        },
        "trusted": false
      },
      "cell_type": "code",
      "source": "features = MNIST['Train']['Features'].astype(np.float32) / 256.0\nlabels = MNIST['Train']['Labels']\nfeatures = features[0:10000]\nlabels = labels[0:10000]\nlabels = np.eye(10,dtype=np.float32)[labels]\nfeatures = np.reshape(features,(-1,1,28,28))",
      "execution_count": 26,
      "outputs": []
    },
    {
      "metadata": {
        "collapsed": true,
        "slideshow": {
          "slide_type": "slide"
        },
        "trusted": false
      },
      "cell_type": "code",
      "source": "input_var = input_variable((1,28,28))\nlabel_var = input_variable(10)\n\nmodel1 = Sequential([\n          Convolution((5,5), 9, init=glorot_uniform(),activation=relu, pad=True),\n          MaxPooling((3,3), strides=(2,2)),\n          Convolution((5,5), 9, init=glorot_uniform(),activation=relu, pad=True),\n          MaxPooling((3,3), strides=(2,2)),\n          Dense(10, init=glorot_uniform(),activation=None)])",
      "execution_count": 52,
      "outputs": []
    },
    {
      "metadata": {
        "collapsed": true,
        "slideshow": {
          "slide_type": "slide"
        },
        "trusted": false
      },
      "cell_type": "code",
      "source": "model2 = Sequential([\n          Convolution((5,5), 9, init=glorot_uniform(),activation=relu, pad=True),\n          Dropout(0.25),\n          MaxPooling((3,3), strides=(2,2)),\n          Convolution((5,5), 9, init=glorot_uniform(),activation=relu, pad=True),\n          Dropout(0.25),\n          MaxPooling((3,3), strides=(2,2)),\n          Dropout(0.25),\n          Dense(10, init=glorot_uniform(),activation=None)])",
      "execution_count": null,
      "outputs": []
    },
    {
      "metadata": {
        "slideshow": {
          "slide_type": "skip"
        },
        "trusted": false
      },
      "cell_type": "code",
      "source": "def train(model):\n    z = model(input_var)\n    ce = cntk.cross_entropy_with_softmax(z, label_var)\n    pe = cntk.classification_error(z, label_var)    \n\n    minibatch_size = 32\n\n    lr_per_minibatch = cntk.learning_rate_schedule(0.01, cntk.UnitType.minibatch)\n    pp = cntk.logging.ProgressPrinter()\n    \n    learner = cntk.adagrad(z.parameters, lr = lr_per_minibatch)\n    trainer = cntk.Trainer(z, (ce, pe), [learner],[pp])\n\n    cntk.logging.log_number_of_parameters(z)\n    progress = []\n    \n    for epoch in range(5):\n        perm = np.random.permutation(len(labels))\n        taccuracy = 0; tloss = 0; cnt = 0\n        for i in range(0, len(labels), minibatch_size):\n            max_n = min(i + minibatch_size, len(labels))\n            x = features[perm[i:max_n]]\n            t = labels[perm[i:max_n]]\n            trainer.train_minibatch({input_var:x,label_var:t})\n            tloss += trainer.previous_minibatch_loss_average*trainer.previous_minibatch_sample_count\n            taccuracy += trainer.previous_minibatch_evaluation_average*trainer.previous_minibatch_sample_count\n            cnt+=trainer.previous_minibatch_sample_count\n            pp.update_with_trainer(trainer,with_metric=True)\n        progress.append([tloss,taccuracy])\n        pp.epoch_summary(with_metric=True)\n    return progress\n    \ngr1 = train(model1)\ngr2 = train(model2)",
      "execution_count": 30,
      "outputs": [
        {
          "name": "stdout",
          "output_type": "stream",
          "text": "Training 5518 parameters in 6 parameter tensors.\nLearning rate per minibatch: 0.01\nFinished Epoch[1]: loss = 2.319767 * 10000, metric = 87.25% * 10000 5.321s (1879.4 samples/s);\nFinished Epoch[2]: loss = 2.277776 * 10000, metric = 83.32% * 10000 5.835s (1713.9 samples/s);\nFinished Epoch[3]: loss = 2.199526 * 10000, metric = 67.01% * 10000 5.064s (1974.6 samples/s);\nFinished Epoch[4]: loss = 1.406671 * 10000, metric = 36.52% * 10000 4.934s (2026.6 samples/s);\nFinished Epoch[5]: loss = 0.430625 * 10000, metric = 11.63% * 10000 5.068s (1973.0 samples/s);\nTraining 5518 parameters in 6 parameter tensors.\nLearning rate per minibatch: 0.01\nFinished Epoch[1]: loss = 2.194961 * 10000, metric = 79.27% * 10000 7.539s (1326.4 samples/s);\nFinished Epoch[2]: loss = 1.231678 * 10000, metric = 37.03% * 10000 7.950s (1257.9 samples/s);\nFinished Epoch[3]: loss = 0.522538 * 10000, metric = 16.42% * 10000 7.210s (1386.9 samples/s);\nFinished Epoch[4]: loss = 0.365488 * 10000, metric = 11.23% * 10000 7.309s (1368.2 samples/s);\nFinished Epoch[5]: loss = 0.297149 * 10000, metric = 9.34% * 10000 7.370s (1356.9 samples/s);\n"
        }
      ]
    },
    {
      "metadata": {
        "collapsed": true,
        "slideshow": {
          "slide_type": "skip"
        },
        "trusted": false
      },
      "cell_type": "code",
      "source": "def plot_compare(l1,l2):\n    p,ax = pylab.subplots(1,2,figsize=(9,3))\n    p.suptitle('Normal training vs. Dropout')\n    ax[0].plot([[u,v] for ([u,_],[v,_]) in zip(gr1,gr2)])\n    ax[0].set_ylabel('Loss')\n    ax[1].plot([[u,v] for ([_,u],[_,v]) in zip(gr1,gr2)])\n    ax[1].set_ylabel('Accuracy')\n    plt.show()",
      "execution_count": 50,
      "outputs": []
    },
    {
      "metadata": {
        "slideshow": {
          "slide_type": "slide"
        },
        "trusted": false
      },
      "cell_type": "code",
      "source": "plot_compare(gr1,gr2)",
      "execution_count": 51,
      "outputs": [
        {
          "data": {
            "image/png": "[encoded data removed]",
            "text/plain": "<matplotlib.figure.Figure at 0x7f8b561304e0>"
          },
          "metadata": {},
          "output_type": "display_data"
        }
      ]
    },
    {
      "metadata": {
        "collapsed": true,
        "slideshow": {
          "slide_type": "slide"
        }
      },
      "cell_type": "markdown",
      "source": "## Хитрости обучения\n\n 1. Удержание сигналов внутри сети близко к разумному диапазону ($[-1..1]$ или $[0..1]$)\n 2. Возмущения сети за счет выпадения нейронов (Dropout)\n 3. **Вовремя остановиться / избежать переобучения**"
    },
    {
      "metadata": {
        "slideshow": {
          "slide_type": "slide"
        }
      },
      "cell_type": "markdown",
      "source": "## Почему возникает переобучение\n\n  * Недостаточно обучающих данных\n  * Слишком богатая нейросеть\n  * Слишком зашумлённые входные данные\n  \nОчень важно соблюсти баланс между выразительностью нейросети (количеством параметров) и количеством независимых обучающих данных"
    },
    {
      "metadata": {
        "slideshow": {
          "slide_type": "slide"
        }
      },
      "cell_type": "markdown",
      "source": "## Как выглядит переобучение\n\n<img src=\"https://raw.githubusercontent.com/shwars/NeuroWorkshop/master/images/Overfitting.png\" width=\"90%\"/>"
    },
    {
      "metadata": {
        "collapsed": true
      },
      "cell_type": "markdown",
      "source": "## Почему так происходит\n\nОшибка = ошибка аппроксимации + ошибка оценки\n\n * Ошибка аппроксимации - расстояние между целевой функцией и лучшей аппроксимирующей фунцией в данной архитектуре сети (насколько сеть может приблизить данные точки)\n * Ошибка оценки - ошибка, возникающая из-за того, что мы аппроксимировали не совсем правильну функцию (только на основе только обучающей выборки, а не поняли правильную зависимость в данных"
    },
    {
      "metadata": {
        "collapsed": true,
        "slideshow": {
          "slide_type": "slide"
        }
      },
      "cell_type": "markdown",
      "source": "## Разные виды ошибок\n\n * Ошибка аппроксимации по мере обучения уменьшается (мы приближаем точки обучающей выборки всё лучше)\n * Ошибка оценки возрастает.\n \nВ зависимости от количества параметров:\n * Для малого количества параметров и большого числа обучающих примеров ошибка аппроксимации большая, ошибка оценки маленькая\n * Для большого количества параметров и малого числа обучающих примеров ошибка аппроксимации маленькая, ошибка оценки большая"
    },
    {
      "metadata": {
        "slideshow": {
          "slide_type": "slide"
        }
      },
      "cell_type": "markdown",
      "source": "## Способы вовремя закончить обучение\n\n * Явное раннее завершение - откладываем validation set, наблюдаем за validation error, прекращаем, когда она начинает расти\n * Explicit Weight Decay - добавляем к оптимизируемой функции штрафное слагаемое, останавливающее обучение при росте весов\n * Model Averaging - обучаем несколько моделей и берем среднее значение предсказаний\n * Dropout (Implicit Model Averaging)"
    },
    {
      "metadata": {
        "slideshow": {
          "slide_type": "slide"
        }
      },
      "cell_type": "markdown",
      "source": "## Хитрости обучения\n\n 1. Удержание сигналов внутри сети близко к разумному диапазону ($[-1..1]$ или $[0..1]$)\n 2. Возмущения сети за счет выпадения нейронов (Dropout)\n 3. Вовремя остановиться / избежать переобучения\n 4. **Алгоритмы обучения**"
    },
    {
      "metadata": {
        "slideshow": {
          "slide_type": "slide"
        }
      },
      "cell_type": "markdown",
      "source": "## Momentum\n\n * Stochastic Gradient Descent (SGD)\n $$w^{t+1}=w^t-\\eta\\nabla\\mathcal{L}$$\n \n * Momentum SGD\n $$v^{t+1}=\\gamma v^t-\\eta\\nabla\\mathcal{L}\\\\\n   w^{t+1}=w^t+v^{t+1}\n $$\n * $\\gamma=0$ - SGD (без памяти), $\\gamma=1$ - уравнение движения"
    },
    {
      "metadata": {
        "slideshow": {
          "slide_type": "slide"
        }
      },
      "cell_type": "markdown",
      "source": "## Проблема возрастающих / исчезающих градиентов\n\nНа каждом слое происходит умножение на матрицу $W_i$. В зависимости от $||W_i||$, градиент может уменьшиться практически до 0, или неограниченно возрасти.\n\nРешение: Adagrad, RMSProp, Adam\n\nНапр. Adagrad: $w^{t+1}=w^t-\\eta\\cdot{\\nabla\\mathcal{L}\\over\\sqrt\\sum(\\nabla\\mathcal{L})^2}$"
    },
    {
      "metadata": {
        "slideshow": {
          "slide_type": "slide"
        }
      },
      "cell_type": "markdown",
      "source": "## Learning rate decay\n\nУменьшаем $\\eta$ по мере обучения, например, умножая на 0.98\n\n## Gradient clipping\n\n$$\\Delta W_{clip} =\n  \\left\\{\n  \\begin{array}{ll}\n  {\\Delta W\\over ||W||} & \\mbox{ если } ||W||\\gt\\theta\\\\ \n  \\Delta W & \\mbox{ в противном случае}\n  \\end{array}\n  \\right.\n$$\nРазумные значения: $\\theta=1$ или $\\theta=10$"
    },
    {
      "metadata": {
        "slideshow": {
          "slide_type": "slide"
        }
      },
      "cell_type": "markdown",
      "source": "## Хитрости обучения\n\n 1. Удержание сигналов внутри сети близко к разумному диапазону ($[-1..1]$ или $[0..1]$)\n 2. Возмущения сети за счет выпадения нейронов (Dropout)\n 3. Вовремя остановиться / избежать переобучения\n 4. Алгоритмы обучения\n 5. **Архитектура сетей**"
    },
    {
      "metadata": {
        "slideshow": {
          "slide_type": "slide"
        }
      },
      "cell_type": "markdown",
      "source": "## Основные способы подбора архитектуры\n\n 1. Взять готовую архитектуру сети, которая себя зарекомендовала для данной задачи ([обзорная статья](https://www.topbots.com/a-brief-history-of-neural-network-architectures/) по архитектурам для изображений)\n 2. Попытки научить сеть саму выбирать оптимальную архитектуру"
    },
    {
      "metadata": {
        "slideshow": {
          "slide_type": "slide"
        }
      },
      "cell_type": "markdown",
      "source": "## ResNet\n\n<img src=\"https://raw.githubusercontent.com/shwars/NeuroWorkshop/master/images/topbots/nnarch10_resnet.jpg\" width=\"40%\" align=\"right\"/>\nОсновная идея ResNet - сеть в начале обучается на небольшом количестве весов/параметров, впоследствии задействуя дополнительные слои по мере необходимости. Для этого сеть строится из большого (50-1000+) числа слоёв такого вида.\n\nЭта архитектура от MSR является победителем ImageNet в 2015 г.\n\n"
    },
    {
      "metadata": {
        "slideshow": {
          "slide_type": "slide"
        }
      },
      "cell_type": "markdown",
      "source": "## Inception\n\n<img src=\"https://raw.githubusercontent.com/shwars/NeuroWorkshop/master/images/topbots/nnarch6_inception.jpg\" width=\"40%\" align=\"right\"/>\nВ данном случае на каждом уровне мы комбинируем несколько возможных \"маршрутов\" по сети. В результате сеть сама \"понимает\", каким маршрутом лучше идти, т.е. какой слой оптимален в данном случае.\n\nПрекрасная статья про создания inception-сети на Keras \"с нуля\" - [тут](https://www.analyticsvidhya.com/blog/2018/10/understanding-inception-network-from-scratch/)."
    },
    {
      "metadata": {
        "slideshow": {
          "slide_type": "slide"
        }
      },
      "cell_type": "markdown",
      "source": "## Мы рассмотрели\n\n 1. Удержание сигналов внутри сети близко к разумному диапазону ($[-1..1]$ или $[0..1]$) и **Batch Normalization**\n 2. Возмущения сети за счет выпадения нейронов (**Dropout**)\n 3. Критерии остановки обучения и learning rate decay\n 4. Алгоритмы обучения: Adagrad, RMSProp, **Adam**\n 5. Сети с обучаемой архитектурой: ResNet, Inception"
    }
  ],
  "metadata": {
    "celltoolbar": "Slideshow",
    "kernelspec": {
      "name": "python3",
      "display_name": "Python 3",
      "language": "python"
    },
    "language_info": {
      "mimetype": "text/x-python",
      "nbconvert_exporter": "python",
      "name": "python",
      "pygments_lexer": "ipython3",
      "version": "3.5.4",
      "file_extension": ".py",
      "codemirror_mode": {
        "version": 3,
        "name": "ipython"
      }
    },
    "livereveal": {
      "start_slideshow_at": "selected"
    }
  },
  "nbformat": 4,
  "nbformat_minor": 2
}