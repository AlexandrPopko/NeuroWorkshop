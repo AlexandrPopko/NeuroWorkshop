{
  "cells": [
    {
      "metadata": {
        "collapsed": true,
        "slideshow": {
          "slide_type": "-"
        }
      },
      "cell_type": "markdown",
      "source": "## Лабораторная №2\n\n## Распознавание MNIST на CNTK\n\nПосмотрим, насколько хорошо у вас получится распознать с помощью CNTK уже известные нам рукописные цифры."
    },
    {
      "metadata": {
        "trusted": false
      },
      "cell_type": "code",
      "source": "%matplotlib inline\nimport numpy as np\nimport matplotlib.pyplot as plt",
      "execution_count": 1,
      "outputs": []
    },
    {
      "metadata": {
        "trusted": false
      },
      "cell_type": "code",
      "source": "import pickle\nimport os\nif not os.path.exists('mnist.pkl'):\n    !rm *.pkl\n    !wget https://raw.githubusercontent.com/shwars/NeuroWorkshop/master/Data/MNIST/mnist.pkl.gz\n    !gzip -d mnist.pkl.gz\n        \nwith open('mnist.pkl', 'rb') as mnist_pickle:\n    MNIST = pickle.load(mnist_pickle)",
      "execution_count": 2,
      "outputs": []
    },
    {
      "metadata": {},
      "cell_type": "markdown",
      "source": "Мы получили объект `MNIST`, содержащий все необходимые данные. Проведем с ними небольшие преобразования:\n\n  * Нормируем, чтобы яркость пискселей была в диапазоне $[0,1]$\n  * Приведём labels к **one-hot encoding** с помощью функции $\\mathrm{conv}: \\mathbb{N} \\to \\mathbb{N}^{10}$, где $i\\mapsto \\left(\\mathrm{eq}(i,j)\\right)_{j=0}^9$, и $\\mathrm{eq}(i,j) = \\begin{cases}\n         1, & i=j \\\\\n         0, & i\\not=j\n\\end{cases}$"
    },
    {
      "metadata": {
        "scrolled": true,
        "trusted": false
      },
      "cell_type": "code",
      "source": "features = MNIST['Train']['Features'].astype(np.float32) / 256.0\nlabels = MNIST['Train']['Labels']\n\ndef conv(n):\n    return np.eye(10,dtype=np.float32)[n]\n\nlabels_onehot = conv(labels)",
      "execution_count": 3,
      "outputs": []
    },
    {
      "metadata": {
        "trusted": false
      },
      "cell_type": "code",
      "source": "from sklearn.model_selection import train_test_split\ntrain_features, test_features, train_labels, test_labels = train_test_split(features,labels,test_size=0.2)",
      "execution_count": 4,
      "outputs": []
    },
    {
      "metadata": {},
      "cell_type": "markdown",
      "source": "## Задание\n\n1. Постройте однослойный перспептрон для распознавания рукописных цифр. Вы должны достинуть точности около 95%\n2. Поэкспериментируйте с количеством скрытых слоёв (1-2 шт.) и количеством нейронов в этих слоях. Теоретически при таком подходе возможно достичь точности около 98%\n3. Попробуйте в процессе обучения строить training error и testing error и посмотреть, если ли переобучение\n4. Попробуйте центрировать входные данные в диапазоне $[-1;1]$ (а не $[0;1]$) и посмотрите, станет ли лучше\n5. Поэкспериментируйте с различными функциями активации\n6. Попробуйте обучить на виртуальных машинах с GPU (например, в Google Collab)"
    },
    {
      "metadata": {
        "collapsed": true
      },
      "cell_type": "markdown",
      "source": "## Лабораторная №3\n\n## Улучшаем качество MNIST с помощью свёрточной сети\n\nПостройте свёрточную нейросеть для распознавания рукописных цифр. Вы должны достичь точности около 99%. Поэкспериментируйте:\n\n  * с количеством свёрточных слоёв\n  * со слоями субдискретизации\n  * с размером окна свёртки (3x3, 5x5, 7x7)\n  * с количеством выходных слоёв классификатора\n\nВ каждой архитектуре обращайте внимание на количество параметров модели: меньшее количество параметров позволяет обойтись меньшим количеством обучающих данных и улучшает генерализацию модели на тестовые данные, снижая вероятность переобучения!\n\n**Указание**: перед подачей изображения на вход свёрточной сети не забудьте преобразовать его к тензору соответствующего размера (обычно $28\\times28\\times1$). Свёрточная сеть, в отличие от полносвязной, чувствительна к форме входного изображения.\n\nУдачи!"
    },
    {
      "metadata": {
        "trusted": false
      },
      "cell_type": "code",
      "source": "",
      "execution_count": null,
      "outputs": []
    }
  ],
  "metadata": {
    "kernelspec": {
      "name": "python3",
      "display_name": "Python 3",
      "language": "python"
    },
    "language_info": {
      "mimetype": "text/x-python",
      "nbconvert_exporter": "python",
      "name": "python",
      "pygments_lexer": "ipython3",
      "version": "3.5.4",
      "file_extension": ".py",
      "codemirror_mode": {
        "version": 3,
        "name": "ipython"
      }
    }
  },
  "nbformat": 4,
  "nbformat_minor": 2
}