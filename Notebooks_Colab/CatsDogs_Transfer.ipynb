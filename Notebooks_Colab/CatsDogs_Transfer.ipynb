{
  "nbformat": 4,
  "nbformat_minor": 0,
  "metadata": {
    "colab": {
      "name": "CatsDogs-Transfer.ipynb",
      "version": "0.3.2",
      "provenance": [],
      "collapsed_sections": []
    },
    "kernelspec": {
      "name": "python3",
      "display_name": "Python 3"
    },
    "accelerator": "GPU"
  },
  "cells": [
    {
      "metadata": {
        "id": "IXDz2pXLpRDu",
        "colab_type": "text"
      },
      "cell_type": "markdown",
      "source": [
        "## Transfer Learning\n",
        "\n",
        "### NeuroWorkshop\n",
        "\n",
        "by [Dmitri Soshnikov](http://facebook.com/shwars)"
      ]
    },
    {
      "metadata": {
        "id": "sWzDYNXupiFI",
        "colab_type": "text"
      },
      "cell_type": "markdown",
      "source": [
        "Обучение серьезных моделей занимает длительное время. Поэтому возникает вопрос - можно ли как-то использовать предобученные модели?\n",
        "\n",
        "Можно заметить, что в свёрточных сетях основное время тратится на обучение \"глубоких слоёв\", т.е. низкоуровневых фич. В то же время они очень похожи для всех изображений.\n",
        "\n",
        "Подход, когда мы используем предобученную сеть, или до-обучаем её, называется **transfer learning**. Мы переносим обученную для одной задачи сеть на другую предметную область.\n",
        "\n",
        "Посмотрим, как работает **transfer learning** для различения кошек и собак, используя [вот этот](https://www.kaggle.com/tongpython/cat-and-dog) датасет с Kaggle. Хорошая классическая статья про transfer learning с Keras есть [тут](https://blog.keras.io/building-powerful-image-classification-models-using-very-little-data.html)."
      ]
    },
    {
      "metadata": {
        "id": "yPbgwyTXzxV0",
        "colab_type": "code",
        "colab": {}
      },
      "cell_type": "code",
      "source": [
        "import matplotlib.pyplot as plt"
      ],
      "execution_count": 0,
      "outputs": []
    },
    {
      "metadata": {
        "id": "Vs6Q29_-SzEv",
        "colab_type": "text"
      },
      "cell_type": "markdown",
      "source": [
        "## Подготовка данных\n",
        "\n",
        "Первым делом загрузим датасет, для этого установим утилиту для работы с kaggle API из командной строки:"
      ]
    },
    {
      "metadata": {
        "id": "A88Am71KpOJO",
        "colab_type": "code",
        "outputId": "e6b53370-715a-49f8-f206-01ca1617a984",
        "colab": {
          "base_uri": "https://localhost:8080/",
          "height": 474
        }
      },
      "cell_type": "code",
      "source": [
        "api_token = {\"username\":\"shwars\",\"key\":\"b7a0587f89803147992d2ba333927e3c\"}\n",
        "\n",
        "import sys\n",
        "import json\n",
        "\n",
        "!{sys.executable} -m pip install kaggle\n",
        "\n",
        "!mkdir ~/.kaggle\n",
        "with open('kaggle.json', 'w') as file:\n",
        "    json.dump(api_token, file)\n",
        "!mv kaggle.json ~/.kaggle\n",
        "!chmod 600 ~/.kaggle/kaggle.json"
      ],
      "execution_count": 1,
      "outputs": [
        {
          "output_type": "stream",
          "text": [
            "Collecting kaggle\n",
            "\u001b[?25l  Downloading https://files.pythonhosted.org/packages/83/9b/ac57e15fbb239c6793c8d0b7dfd1a4c4a025eaa9f791b5388a7afb515aed/kaggle-1.5.0.tar.gz (53kB)\n",
            "\r\u001b[K    19% |██████▏                         | 10kB 20.3MB/s eta 0:00:01\r\u001b[K    38% |████████████▎                   | 20kB 4.0MB/s eta 0:00:01\r\u001b[K    57% |██████████████████▌             | 30kB 5.6MB/s eta 0:00:01\r\u001b[K    77% |████████████████████████▋       | 40kB 3.9MB/s eta 0:00:01\r\u001b[K    96% |██████████████████████████████▉ | 51kB 4.8MB/s eta 0:00:01\r\u001b[K    100% |████████████████████████████████| 61kB 5.0MB/s \n",
            "\u001b[?25hRequirement already satisfied: urllib3<1.23.0,>=1.15 in /usr/local/lib/python3.6/dist-packages (from kaggle) (1.22)\n",
            "Requirement already satisfied: six>=1.10 in /usr/local/lib/python3.6/dist-packages (from kaggle) (1.11.0)\n",
            "Requirement already satisfied: certifi in /usr/local/lib/python3.6/dist-packages (from kaggle) (2018.10.15)\n",
            "Requirement already satisfied: python-dateutil in /usr/local/lib/python3.6/dist-packages (from kaggle) (2.5.3)\n",
            "Requirement already satisfied: requests in /usr/local/lib/python3.6/dist-packages (from kaggle) (2.18.4)\n",
            "Requirement already satisfied: tqdm in /usr/local/lib/python3.6/dist-packages (from kaggle) (4.28.1)\n",
            "Collecting python-slugify (from kaggle)\n",
            "  Downloading https://files.pythonhosted.org/packages/00/ad/c778a6df614b6217c30fe80045b365bfa08b5dd3cb02e8b37a6d25126781/python-slugify-1.2.6.tar.gz\n",
            "Requirement already satisfied: chardet<3.1.0,>=3.0.2 in /usr/local/lib/python3.6/dist-packages (from requests->kaggle) (3.0.4)\n",
            "Requirement already satisfied: idna<2.7,>=2.5 in /usr/local/lib/python3.6/dist-packages (from requests->kaggle) (2.6)\n",
            "Collecting Unidecode>=0.04.16 (from python-slugify->kaggle)\n",
            "\u001b[?25l  Downloading https://files.pythonhosted.org/packages/31/39/53096f9217b057cb049fe872b7fc7ce799a1a89b76cf917d9639e7a558b5/Unidecode-1.0.23-py2.py3-none-any.whl (237kB)\n",
            "\u001b[K    100% |████████████████████████████████| 245kB 14.0MB/s \n",
            "\u001b[?25hBuilding wheels for collected packages: kaggle, python-slugify\n",
            "  Running setup.py bdist_wheel for kaggle ... \u001b[?25l-\b \b\\\b \bdone\n",
            "\u001b[?25h  Stored in directory: /root/.cache/pip/wheels/8b/21/3b/a0076243c6ae12a6215b2da515fe06b539aee7217b406e510e\n",
            "  Running setup.py bdist_wheel for python-slugify ... \u001b[?25l-\b \bdone\n",
            "\u001b[?25h  Stored in directory: /root/.cache/pip/wheels/e3/65/da/2045deea3098ed7471eca0e2460cfbd3fdfe8c1d6fa6fcac92\n",
            "Successfully built kaggle python-slugify\n",
            "Installing collected packages: Unidecode, python-slugify, kaggle\n",
            "Successfully installed Unidecode-1.0.23 kaggle-1.5.0 python-slugify-1.2.6\n"
          ],
          "name": "stdout"
        }
      ]
    },
    {
      "metadata": {
        "id": "j5OM02wMyjag",
        "colab_type": "text"
      },
      "cell_type": "markdown",
      "source": [
        "Теперь собственно загружаем датасет: это может занять некоторое время!"
      ]
    },
    {
      "metadata": {
        "id": "CxSwDeQVtvEW",
        "colab_type": "code",
        "outputId": "c400a46c-466a-4641-cf92-f63c9ec30df8",
        "colab": {
          "base_uri": "https://localhost:8080/",
          "height": 72
        }
      },
      "cell_type": "code",
      "source": [
        "!kaggle datasets download -d tongpython/cat-and-dog"
      ],
      "execution_count": 2,
      "outputs": [
        {
          "output_type": "stream",
          "text": [
            "Downloading cat-and-dog.zip to /content\n",
            " 97% 210M/217M [00:04<00:00, 52.6MB/s]\n",
            "100% 217M/217M [00:04<00:00, 47.2MB/s]\n"
          ],
          "name": "stdout"
        }
      ]
    },
    {
      "metadata": {
        "id": "PR9vLnl3z0Ki",
        "colab_type": "text"
      },
      "cell_type": "markdown",
      "source": [
        "Скачанный датасет представляет собой один .zip-файл, распакуем его для последующего использования:"
      ]
    },
    {
      "metadata": {
        "id": "I9rYCST4w2Bs",
        "colab_type": "code",
        "outputId": "b0a5b430-a54d-439f-acf9-84121c006cf8",
        "colab": {
          "base_uri": "https://localhost:8080/",
          "height": 72
        }
      },
      "cell_type": "code",
      "source": [
        "!unzip cat-and-dog.zip\n",
        "!rm cat-and-dog.zip\n",
        "!unzip -q test_set.zip\n",
        "!unzip -q training_set.zip\n",
        "!rm *.zip"
      ],
      "execution_count": 3,
      "outputs": [
        {
          "output_type": "stream",
          "text": [
            "Archive:  cat-and-dog.zip\n",
            "  inflating: training_set.zip        \n",
            "  inflating: test_set.zip            \n"
          ],
          "name": "stdout"
        }
      ]
    },
    {
      "metadata": {
        "id": "gwcgjMOnyTA2",
        "colab_type": "text"
      },
      "cell_type": "markdown",
      "source": [
        "Ограничимся по 1000 файлов каждого класса для обучения, и по 200 файлов для тестирования."
      ]
    },
    {
      "metadata": {
        "id": "gbnXQyVzya8g",
        "colab_type": "code",
        "colab": {}
      },
      "cell_type": "code",
      "source": [
        "!find ./training_set/cats -type f -print0 | sort -zR | tail -zn +1001 | xargs -0 rm\n",
        "!find ./training_set/dogs -type f -print0 | sort -zR | tail -zn +1001 | xargs -0 rm\n",
        "!find ./test_set/cats -type f -print0 | sort -zR | tail -zn +201 | xargs -0 rm\n",
        "!find ./test_set/dogs -type f -print0 | sort -zR | tail -zn +201 | xargs -0 rm"
      ],
      "execution_count": 0,
      "outputs": []
    },
    {
      "metadata": {
        "id": "IiiDhewv0zIv",
        "colab_type": "text"
      },
      "cell_type": "markdown",
      "source": [
        "## Обучаем сеть \"с нуля\"\n"
      ]
    },
    {
      "metadata": {
        "id": "svQhMY-lzaBt",
        "colab_type": "code",
        "outputId": "6a0199ed-c364-44f9-929c-cc1b0ce5c186",
        "colab": {
          "base_uri": "https://localhost:8080/",
          "height": 72
        }
      },
      "cell_type": "code",
      "source": [
        "import keras\n",
        "\n",
        "img_size = (128,128)\n",
        "batch_size = 32\n",
        "\n",
        "data_gen = keras.preprocessing.image.ImageDataGenerator(rescale=1./255.)\n",
        "\n",
        "train_flow = data_gen.flow_from_directory('training_set',target_size=img_size,batch_size=batch_size,class_mode='binary')\n",
        "test_flow = data_gen.flow_from_directory('test_set',target_size=img_size,batch_size=batch_size,class_mode='binary')"
      ],
      "execution_count": 5,
      "outputs": [
        {
          "output_type": "stream",
          "text": [
            "Using TensorFlow backend.\n"
          ],
          "name": "stderr"
        },
        {
          "output_type": "stream",
          "text": [
            "Found 1999 images belonging to 2 classes.\n",
            "Found 400 images belonging to 2 classes.\n"
          ],
          "name": "stdout"
        }
      ]
    },
    {
      "metadata": {
        "id": "lhkWbpai2_W2",
        "colab_type": "code",
        "colab": {}
      },
      "cell_type": "code",
      "source": [
        "train_images = 2000\n",
        "test_images = 400\n"
      ],
      "execution_count": 0,
      "outputs": []
    },
    {
      "metadata": {
        "id": "sKGe8VkS3-rN",
        "colab_type": "code",
        "outputId": "cfe2f142-9a30-497d-8f27-caec3305d033",
        "colab": {
          "base_uri": "https://localhost:8080/",
          "height": 472
        }
      },
      "cell_type": "code",
      "source": [
        "from keras.layers import *\n",
        "model = keras.models.Sequential()\n",
        "model.add(Conv2D(32, (3, 3), input_shape = img_size+(3,), activation = 'relu'))\n",
        "model.add(MaxPooling2D((2, 2)))\n",
        "model.add(Conv2D(32,(3,3),activation='relu'))\n",
        "model.add(MaxPooling2D((2, 2)))\n",
        "model.add(Conv2D(64,(3,3),activation='relu'))\n",
        "model.add(MaxPooling2D((2, 2)))\n",
        "model.add(Flatten())\n",
        "model.add(Dense(128,activation='relu'))\n",
        "model.add(Dense(1,activation='sigmoid'))\n",
        "          \n",
        "model.compile(optimizer = 'adam', loss = 'binary_crossentropy', metrics = ['accuracy'])\n",
        "model.summary()"
      ],
      "execution_count": 7,
      "outputs": [
        {
          "output_type": "stream",
          "text": [
            "_________________________________________________________________\n",
            "Layer (type)                 Output Shape              Param #   \n",
            "=================================================================\n",
            "conv2d_1 (Conv2D)            (None, 126, 126, 32)      896       \n",
            "_________________________________________________________________\n",
            "max_pooling2d_1 (MaxPooling2 (None, 63, 63, 32)        0         \n",
            "_________________________________________________________________\n",
            "conv2d_2 (Conv2D)            (None, 61, 61, 32)        9248      \n",
            "_________________________________________________________________\n",
            "max_pooling2d_2 (MaxPooling2 (None, 30, 30, 32)        0         \n",
            "_________________________________________________________________\n",
            "conv2d_3 (Conv2D)            (None, 28, 28, 64)        18496     \n",
            "_________________________________________________________________\n",
            "max_pooling2d_3 (MaxPooling2 (None, 14, 14, 64)        0         \n",
            "_________________________________________________________________\n",
            "flatten_1 (Flatten)          (None, 12544)             0         \n",
            "_________________________________________________________________\n",
            "dense_1 (Dense)              (None, 128)               1605760   \n",
            "_________________________________________________________________\n",
            "dense_2 (Dense)              (None, 1)                 129       \n",
            "=================================================================\n",
            "Total params: 1,634,529\n",
            "Trainable params: 1,634,529\n",
            "Non-trainable params: 0\n",
            "_________________________________________________________________\n"
          ],
          "name": "stdout"
        }
      ]
    },
    {
      "metadata": {
        "colab_type": "code",
        "outputId": "bff904df-d3c6-4339-9838-a3b5c5f60caa",
        "id": "IP82Ej65vRoz",
        "colab": {
          "base_uri": "https://localhost:8080/",
          "height": 199
        }
      },
      "cell_type": "code",
      "source": [
        "hist = model.fit_generator(train_flow,\n",
        "  steps_per_epoch = train_images // batch_size,\n",
        "  epochs = 5,\n",
        "  validation_data = test_flow,\n",
        "  validation_steps = test_images // batch_size)"
      ],
      "execution_count": 8,
      "outputs": [
        {
          "output_type": "stream",
          "text": [
            "Epoch 1/5\n",
            "62/62 [==============================] - 9s 152ms/step - loss: 0.7011 - acc: 0.5212 - val_loss: 0.6828 - val_acc: 0.6016\n",
            "Epoch 2/5\n",
            "62/62 [==============================] - 8s 122ms/step - loss: 0.6640 - acc: 0.5869 - val_loss: 0.6478 - val_acc: 0.6060\n",
            "Epoch 3/5\n",
            "62/62 [==============================] - 8s 122ms/step - loss: 0.6266 - acc: 0.6352 - val_loss: 0.6139 - val_acc: 0.6332\n",
            "Epoch 4/5\n",
            "62/62 [==============================] - 7s 120ms/step - loss: 0.6109 - acc: 0.6559 - val_loss: 0.5658 - val_acc: 0.6984\n",
            "Epoch 5/5\n",
            "62/62 [==============================] - 8s 121ms/step - loss: 0.5830 - acc: 0.6906 - val_loss: 0.5199 - val_acc: 0.7418\n"
          ],
          "name": "stdout"
        }
      ]
    },
    {
      "metadata": {
        "id": "AdpgVUNj51R8",
        "colab_type": "code",
        "outputId": "5e1bdf29-bfbd-4470-9a0a-ffdf8c705607",
        "colab": {
          "base_uri": "https://localhost:8080/",
          "height": 365
        }
      },
      "cell_type": "code",
      "source": [
        "plt.plot(hist.history['acc'])\n",
        "plt.plot(hist.history['val_acc'])"
      ],
      "execution_count": 11,
      "outputs": [
        {
          "output_type": "execute_result",
          "data": {
            "text/plain": [
              "[<matplotlib.lines.Line2D at 0x7f66ef69ed30>]"
            ]
          },
          "metadata": {
            "tags": []
          },
          "execution_count": 11
        },
        {
          "output_type": "display_data",
          "data": {
            "image/png": "[encoded data removed]",
            "text/plain": [
              "<matplotlib.figure.Figure at 0x7f66ef69ef98>"
            ]
          },
          "metadata": {
            "tags": []
          }
        }
      ]
    },
    {
      "metadata": {
        "id": "Nb3S5dpRbApm",
        "colab_type": "text"
      },
      "cell_type": "markdown",
      "source": [
        "## Подход 1: фиксированные веса\n",
        "\n",
        "Как мы знаем, Keras позволяет легко оперировать несколькими стандартными предобученными моделями. Мы можем использовать, например, архитектуру `VGG-19`, обученную на **ImageNet**, взяв от неё \"свёрточную верхушку\", которая будет по изображению выделять фичи, и затем поверх фич обучить классификатор (нейросетевой или классический), который будет осуществлять финальную классификацию."
      ]
    },
    {
      "metadata": {
        "id": "WJsFd71WYTNy",
        "colab_type": "code",
        "outputId": "95fd9e6c-cb03-46a4-b02b-c3223802c52c",
        "colab": {
          "base_uri": "https://localhost:8080/",
          "height": 981
        }
      },
      "cell_type": "code",
      "source": [
        "vgg = keras.applications.vgg19.VGG19(weights='imagenet',include_top=False)\n",
        "vgg.summary()"
      ],
      "execution_count": 17,
      "outputs": [
        {
          "output_type": "stream",
          "text": [
            "Downloading data from https://github.com/fchollet/deep-learning-models/releases/download/v0.1/vgg19_weights_tf_dim_ordering_tf_kernels_notop.h5\n",
            "80142336/80134624 [==============================] - 3s 0us/step\n",
            "_________________________________________________________________\n",
            "Layer (type)                 Output Shape              Param #   \n",
            "=================================================================\n",
            "input_1 (InputLayer)         (None, None, None, 3)     0         \n",
            "_________________________________________________________________\n",
            "block1_conv1 (Conv2D)        (None, None, None, 64)    1792      \n",
            "_________________________________________________________________\n",
            "block1_conv2 (Conv2D)        (None, None, None, 64)    36928     \n",
            "_________________________________________________________________\n",
            "block1_pool (MaxPooling2D)   (None, None, None, 64)    0         \n",
            "_________________________________________________________________\n",
            "block2_conv1 (Conv2D)        (None, None, None, 128)   73856     \n",
            "_________________________________________________________________\n",
            "block2_conv2 (Conv2D)        (None, None, None, 128)   147584    \n",
            "_________________________________________________________________\n",
            "block2_pool (MaxPooling2D)   (None, None, None, 128)   0         \n",
            "_________________________________________________________________\n",
            "block3_conv1 (Conv2D)        (None, None, None, 256)   295168    \n",
            "_________________________________________________________________\n",
            "block3_conv2 (Conv2D)        (None, None, None, 256)   590080    \n",
            "_________________________________________________________________\n",
            "block3_conv3 (Conv2D)        (None, None, None, 256)   590080    \n",
            "_________________________________________________________________\n",
            "block3_conv4 (Conv2D)        (None, None, None, 256)   590080    \n",
            "_________________________________________________________________\n",
            "block3_pool (MaxPooling2D)   (None, None, None, 256)   0         \n",
            "_________________________________________________________________\n",
            "block4_conv1 (Conv2D)        (None, None, None, 512)   1180160   \n",
            "_________________________________________________________________\n",
            "block4_conv2 (Conv2D)        (None, None, None, 512)   2359808   \n",
            "_________________________________________________________________\n",
            "block4_conv3 (Conv2D)        (None, None, None, 512)   2359808   \n",
            "_________________________________________________________________\n",
            "block4_conv4 (Conv2D)        (None, None, None, 512)   2359808   \n",
            "_________________________________________________________________\n",
            "block4_pool (MaxPooling2D)   (None, None, None, 512)   0         \n",
            "_________________________________________________________________\n",
            "block5_conv1 (Conv2D)        (None, None, None, 512)   2359808   \n",
            "_________________________________________________________________\n",
            "block5_conv2 (Conv2D)        (None, None, None, 512)   2359808   \n",
            "_________________________________________________________________\n",
            "block5_conv3 (Conv2D)        (None, None, None, 512)   2359808   \n",
            "_________________________________________________________________\n",
            "block5_conv4 (Conv2D)        (None, None, None, 512)   2359808   \n",
            "_________________________________________________________________\n",
            "block5_pool (MaxPooling2D)   (None, None, None, 512)   0         \n",
            "=================================================================\n",
            "Total params: 20,024,384\n",
            "Trainable params: 20,024,384\n",
            "Non-trainable params: 0\n",
            "_________________________________________________________________\n"
          ],
          "name": "stdout"
        }
      ]
    },
    {
      "metadata": {
        "id": "u6u5iFv-0HA8",
        "colab_type": "text"
      },
      "cell_type": "markdown",
      "source": [
        "Вычислим выходы сети для всех изображений"
      ]
    },
    {
      "metadata": {
        "id": "2CjJq4MQevR5",
        "colab_type": "code",
        "colab": {
          "base_uri": "https://localhost:8080/",
          "height": 54
        },
        "outputId": "c255fd21-41c5-4a1b-80a3-54a78e7a4d20"
      },
      "cell_type": "code",
      "source": [
        "data_gen = keras.preprocessing.image.ImageDataGenerator()\n",
        "train = data_gen.flow_from_directory('training_set',shuffle=False,batch_size=20)\n",
        "test = data_gen.flow_from_directory('test_set',shuffle=False,batch_size=20)\n",
        "train_features = vgg.predict_generator(train,steps=2000//20)\n",
        "test_features = vgg.predict_generator(test,steps=400//20)"
      ],
      "execution_count": 26,
      "outputs": [
        {
          "output_type": "stream",
          "text": [
            "Found 1999 images belonging to 2 classes.\n",
            "Found 400 images belonging to 2 classes.\n"
          ],
          "name": "stdout"
        }
      ]
    },
    {
      "metadata": {
        "id": "T5vZoJjf1q6o",
        "colab_type": "code",
        "colab": {
          "base_uri": "https://localhost:8080/",
          "height": 417
        },
        "outputId": "ed1da734-a7af-414a-9e57-cfa95b1be881"
      },
      "cell_type": "code",
      "source": [
        "train_labels = [0]*1000+[1]*999\n",
        "test_labels = [0]*200 + [1]*200\n",
        "\n",
        "model = keras.models.Sequential()\n",
        "model.add(Flatten(input_shape=train_features.shape[1:]))\n",
        "model.add(Dense(256, activation='relu'))\n",
        "model.add(Dropout(0.5))\n",
        "model.add(Dense(1, activation='sigmoid'))\n",
        "\n",
        "model.compile(optimizer='rmsprop',\n",
        "              loss='binary_crossentropy',\n",
        "              metrics=['accuracy'])\n",
        "\n",
        "model.fit(train_features, train_labels,\n",
        "          epochs=10,\n",
        "          batch_size=20,\n",
        "          validation_data=(test_features, test_labels))"
      ],
      "execution_count": 30,
      "outputs": [
        {
          "output_type": "stream",
          "text": [
            "Train on 1999 samples, validate on 400 samples\n",
            "Epoch 1/10\n",
            "1999/1999 [==============================] - 3s 1ms/step - loss: 3.5950 - acc: 0.7669 - val_loss: 1.1464 - val_acc: 0.9250\n",
            "Epoch 2/10\n",
            "1999/1999 [==============================] - 2s 822us/step - loss: 2.0671 - acc: 0.8699 - val_loss: 1.2612 - val_acc: 0.9200\n",
            "Epoch 3/10\n",
            "1999/1999 [==============================] - 2s 818us/step - loss: 1.5465 - acc: 0.9010 - val_loss: 1.1267 - val_acc: 0.9275\n",
            "Epoch 4/10\n",
            "1999/1999 [==============================] - 2s 849us/step - loss: 1.5832 - acc: 0.8979 - val_loss: 0.8601 - val_acc: 0.9450\n",
            "Epoch 5/10\n",
            "1999/1999 [==============================] - 2s 824us/step - loss: 1.1754 - acc: 0.9235 - val_loss: 1.4939 - val_acc: 0.9050\n",
            "Epoch 6/10\n",
            "1999/1999 [==============================] - 2s 814us/step - loss: 0.8717 - acc: 0.9440 - val_loss: 0.6437 - val_acc: 0.9575\n",
            "Epoch 7/10\n",
            "1999/1999 [==============================] - 2s 853us/step - loss: 0.7099 - acc: 0.9555 - val_loss: 0.8079 - val_acc: 0.9475\n",
            "Epoch 8/10\n",
            "1999/1999 [==============================] - 2s 807us/step - loss: 0.8679 - acc: 0.9450 - val_loss: 0.7043 - val_acc: 0.9550\n",
            "Epoch 9/10\n",
            "1999/1999 [==============================] - 2s 834us/step - loss: 0.9488 - acc: 0.9395 - val_loss: 0.6438 - val_acc: 0.9600\n",
            "Epoch 10/10\n",
            "1999/1999 [==============================] - 2s 835us/step - loss: 0.7535 - acc: 0.9530 - val_loss: 1.5181 - val_acc: 0.9025\n"
          ],
          "name": "stdout"
        },
        {
          "output_type": "execute_result",
          "data": {
            "text/plain": [
              "<keras.callbacks.History at 0x7f66f10f0eb8>"
            ]
          },
          "metadata": {
            "tags": []
          },
          "execution_count": 30
        }
      ]
    },
    {
      "metadata": {
        "id": "Ax0YzcWk5aMV",
        "colab_type": "text"
      },
      "cell_type": "markdown",
      "source": [
        "## Подход 2: Единая нейросетевая структура\n",
        "\n",
        "На предыдущем шаге мы явно вычислили все фичи, после чего тренировали обычный классификатор уже на векторах малой размерности. Мы можем построить единую нейросеть с предобученной \"верхушкой\", после чего обучать её как единое целое.\n",
        "\n",
        "Чтобы не менять веса обученных фильтров, мы \"замораживаем\" все слоя свёрточной верхушки, чтобы они не менялись в процессе обучения."
      ]
    },
    {
      "metadata": {
        "id": "_RVHAAxh3trO",
        "colab_type": "code",
        "colab": {
          "base_uri": "https://localhost:8080/",
          "height": 326
        },
        "outputId": "f1936c6e-5aa7-4d5d-a916-4d153b3ff88a"
      },
      "cell_type": "code",
      "source": [
        "vgg = keras.applications.vgg19.VGG19(weights='imagenet',include_top=False,input_shape=(128,128,3))\n",
        "for x in vgg.layers:\n",
        "  x.trainable = False\n",
        "model = keras.models.Sequential()\n",
        "model.add(vgg)\n",
        "model.add(Flatten(input_shape=train_features.shape[1:]))\n",
        "model.add(Dense(256, activation='relu'))\n",
        "model.add(Dropout(0.5))\n",
        "model.add(Dense(1, activation='sigmoid'))\n",
        "model.summary()\n",
        "\n",
        "model.compile(optimizer='rmsprop',\n",
        "              loss='binary_crossentropy',\n",
        "              metrics=['accuracy'])\n"
      ],
      "execution_count": 63,
      "outputs": [
        {
          "output_type": "stream",
          "text": [
            "_________________________________________________________________\n",
            "Layer (type)                 Output Shape              Param #   \n",
            "=================================================================\n",
            "vgg19 (Model)                (None, 4, 4, 512)         20024384  \n",
            "_________________________________________________________________\n",
            "flatten_14 (Flatten)         (None, 8192)              0         \n",
            "_________________________________________________________________\n",
            "dense_19 (Dense)             (None, 256)               2097408   \n",
            "_________________________________________________________________\n",
            "dropout_9 (Dropout)          (None, 256)               0         \n",
            "_________________________________________________________________\n",
            "dense_20 (Dense)             (None, 1)                 257       \n",
            "=================================================================\n",
            "Total params: 22,122,049\n",
            "Trainable params: 2,097,665\n",
            "Non-trainable params: 20,024,384\n",
            "_________________________________________________________________\n"
          ],
          "name": "stdout"
        }
      ]
    },
    {
      "metadata": {
        "id": "te1_8pmN6i_t",
        "colab_type": "code",
        "colab": {
          "base_uri": "https://localhost:8080/",
          "height": 54
        },
        "outputId": "c86155de-b3cd-4938-e5ce-a7e7fbc046cb"
      },
      "cell_type": "code",
      "source": [
        "data_gen = keras.preprocessing.image.ImageDataGenerator()\n",
        "\n",
        "train_flow = data_gen.flow_from_directory('training_set',target_size=img_size,batch_size=batch_size,class_mode='binary')\n",
        "test_flow = data_gen.flow_from_directory('test_set',target_size=img_size,batch_size=batch_size,class_mode='binary')"
      ],
      "execution_count": 64,
      "outputs": [
        {
          "output_type": "stream",
          "text": [
            "Found 1999 images belonging to 2 classes.\n",
            "Found 400 images belonging to 2 classes.\n"
          ],
          "name": "stdout"
        }
      ]
    },
    {
      "metadata": {
        "id": "-oaYfxQp-SQX",
        "colab_type": "code",
        "colab": {
          "base_uri": "https://localhost:8080/",
          "height": 199
        },
        "outputId": "9ab5f72a-5cd4-405a-e178-54983fe5beb6"
      },
      "cell_type": "code",
      "source": [
        "hist = model.fit_generator(train_flow,\n",
        "  steps_per_epoch = train_images // batch_size,\n",
        "  epochs = 5,\n",
        "  validation_data = test_flow,\n",
        "  validation_steps = test_images // batch_size)"
      ],
      "execution_count": 65,
      "outputs": [
        {
          "output_type": "stream",
          "text": [
            "Epoch 1/5\n",
            "62/62 [==============================] - 12s 191ms/step - loss: 3.3150 - acc: 0.7807 - val_loss: 3.1213 - val_acc: 0.7891\n",
            "Epoch 2/5\n",
            "62/62 [==============================] - 9s 146ms/step - loss: 2.4171 - acc: 0.8427 - val_loss: 3.7907 - val_acc: 0.7582\n",
            "Epoch 3/5\n",
            "62/62 [==============================] - 9s 149ms/step - loss: 1.8724 - acc: 0.8785 - val_loss: 1.6350 - val_acc: 0.8940\n",
            "Epoch 4/5\n",
            "62/62 [==============================] - 9s 152ms/step - loss: 1.4288 - acc: 0.9047 - val_loss: 1.3377 - val_acc: 0.9130\n",
            "Epoch 5/5\n",
            "62/62 [==============================] - 9s 148ms/step - loss: 1.5379 - acc: 0.8987 - val_loss: 1.6523 - val_acc: 0.8886\n"
          ],
          "name": "stdout"
        }
      ]
    },
    {
      "metadata": {
        "id": "CBLOdued-tmg",
        "colab_type": "text"
      },
      "cell_type": "markdown",
      "source": [
        "### До-обучение слоёв свёрточной сети\n",
        "\n",
        "* После того, как мы обучили классификатор, можно разморозить нижние слоя свёрточной сети"
      ]
    },
    {
      "metadata": {
        "id": "G8b4pQXK-Yk_",
        "colab_type": "code",
        "colab": {
          "base_uri": "https://localhost:8080/",
          "height": 326
        },
        "outputId": "d5b4918d-850e-49fb-b680-3527688f76f5"
      },
      "cell_type": "code",
      "source": [
        "for x in model.layers[0].layers[19:20]:\n",
        "  x.trainable = True\n",
        "model.compile(optimizer=keras.optimizers.SGD(lr=1e-5, momentum=0.9),\n",
        "              loss='binary_crossentropy',\n",
        "              metrics=['accuracy'])\n",
        "model.summary()\n",
        "  "
      ],
      "execution_count": 66,
      "outputs": [
        {
          "output_type": "stream",
          "text": [
            "_________________________________________________________________\n",
            "Layer (type)                 Output Shape              Param #   \n",
            "=================================================================\n",
            "vgg19 (Model)                (None, 4, 4, 512)         20024384  \n",
            "_________________________________________________________________\n",
            "flatten_14 (Flatten)         (None, 8192)              0         \n",
            "_________________________________________________________________\n",
            "dense_19 (Dense)             (None, 256)               2097408   \n",
            "_________________________________________________________________\n",
            "dropout_9 (Dropout)          (None, 256)               0         \n",
            "_________________________________________________________________\n",
            "dense_20 (Dense)             (None, 1)                 257       \n",
            "=================================================================\n",
            "Total params: 22,122,049\n",
            "Trainable params: 4,457,473\n",
            "Non-trainable params: 17,664,576\n",
            "_________________________________________________________________\n"
          ],
          "name": "stdout"
        }
      ]
    },
    {
      "metadata": {
        "id": "iHzDftwg_G_E",
        "colab_type": "code",
        "colab": {
          "base_uri": "https://localhost:8080/",
          "height": 199
        },
        "outputId": "4bc0e4f5-c879-41fb-c814-dcc8ad7b2f47"
      },
      "cell_type": "code",
      "source": [
        "hist = model.fit_generator(train_flow,\n",
        "  steps_per_epoch = train_images // batch_size,\n",
        "  epochs = 5,\n",
        "  validation_data = test_flow,\n",
        "  validation_steps = test_images // batch_size)"
      ],
      "execution_count": 67,
      "outputs": [
        {
          "output_type": "stream",
          "text": [
            "Epoch 1/5\n",
            "62/62 [==============================] - 12s 198ms/step - loss: 1.2992 - acc: 0.9157 - val_loss: 1.0675 - val_acc: 0.9239\n",
            "Epoch 2/5\n",
            "62/62 [==============================] - 9s 150ms/step - loss: 1.0193 - acc: 0.9343 - val_loss: 1.0477 - val_acc: 0.9297\n",
            "Epoch 3/5\n",
            "62/62 [==============================] - 9s 152ms/step - loss: 0.9859 - acc: 0.9364 - val_loss: 1.0959 - val_acc: 0.9293\n",
            "Epoch 4/5\n",
            "62/62 [==============================] - 9s 153ms/step - loss: 1.1870 - acc: 0.9238 - val_loss: 0.9050 - val_acc: 0.9429\n",
            "Epoch 5/5\n",
            "62/62 [==============================] - 10s 154ms/step - loss: 0.9606 - acc: 0.9375 - val_loss: 1.1624 - val_acc: 0.9212\n"
          ],
          "name": "stdout"
        }
      ]
    },
    {
      "metadata": {
        "id": "L-tebX62_xqo",
        "colab_type": "code",
        "colab": {}
      },
      "cell_type": "code",
      "source": [
        ""
      ],
      "execution_count": 0,
      "outputs": []
    }
  ]
}